{
 "cells": [
  {
   "cell_type": "code",
   "execution_count": null,
   "id": "77061571",
   "metadata": {},
   "outputs": [],
   "source": [
    "#@title Download L5 Sample Dataset and install L5Kit\n",
    "import os\n",
    "RunningInCOLAB = 'google.colab' in str(get_ipython())\n",
    "if RunningInCOLAB:\n",
    "    !wget https://raw.githubusercontent.com/lyft/l5kit/master/examples/setup_notebook_colab.sh -q\n",
    "    !sh ./setup_notebook_colab.sh\n",
    "    os.environ[\"L5KIT_DATA_FOLDER\"] = open(\"./dataset_dir.txt\", \"r\").read().strip()\n",
    "else:\n",
    "    os.environ[\"L5KIT_DATA_FOLDER\"] = \"/data/parth-data/Level5_WP/\"\n",
    "    print(\"Not running in Google Colab.\")"
   ]
  },
  {
   "cell_type": "code",
   "execution_count": null,
   "id": "5f7929b0",
   "metadata": {},
   "outputs": [],
   "source": [
    "import matplotlib.pyplot as plt\n",
    "\n",
    "import numpy as np\n",
    "\n",
    "from l5kit.data import ChunkedDataset, LocalDataManager\n",
    "from l5kit.dataset import EgoDataset, AgentDataset\n",
    "\n",
    "from l5kit.rasterization import build_rasterizer\n",
    "from l5kit.configs import load_config_data\n",
    "from l5kit.visualization import draw_trajectory, TARGET_POINTS_COLOR\n",
    "from l5kit.geometry import transform_points\n",
    "from tqdm import tqdm\n",
    "from collections import Counter\n",
    "from l5kit.data import PERCEPTION_LABELS\n",
    "from prettytable import PrettyTable\n",
    "\n",
    "import os\n",
    "\n",
    "from l5kit.visualization.visualizer.zarr_utils import zarr_to_visualizer_scene\n",
    "from l5kit.visualization.visualizer.visualizer import visualize\n",
    "from bokeh.io import output_notebook, show\n",
    "from l5kit.data import MapAPI"
   ]
  },
  {
   "cell_type": "code",
   "execution_count": null,
   "id": "116f5618",
   "metadata": {},
   "outputs": [],
   "source": [
    "# Dataset is assumed to be on the folder specified\n",
    "# in the L5KIT_DATA_FOLDER environment variable\n",
    "os.environ[\"L5KIT_DATA_FOLDER\"] = \"/data/parth-data/Level5_WP/\"\n",
    "# get config\n",
    "cfg = load_config_data(\"./visualisation_config.yaml\")\n",
    "print(cfg)"
   ]
  },
  {
   "cell_type": "code",
   "execution_count": null,
   "id": "7acede56",
   "metadata": {},
   "outputs": [],
   "source": [
    "print(f'current raster_param:\\n')\n",
    "for k,v in cfg[\"raster_params\"].items():\n",
    "    print(f\"{k}:{v}\")"
   ]
  },
  {
   "cell_type": "code",
   "execution_count": null,
   "id": "58e3f4d7",
   "metadata": {},
   "outputs": [],
   "source": [
    "dm = LocalDataManager()\n",
    "dataset_path = dm.require(cfg[\"val_data_loader\"][\"key\"])\n",
    "zarr_dataset = ChunkedDataset(dataset_path)\n",
    "zarr_dataset.open()\n",
    "print(zarr_dataset)"
   ]
  },
  {
   "cell_type": "code",
   "execution_count": null,
   "id": "e793d3f7",
   "metadata": {},
   "outputs": [],
   "source": [
    "from l5kit.environment.utils import get_scene_types, get_scene_types_as_dict\n",
    "from l5kit.dataset import EgoDataset\n",
    "\n",
    "rasterizer = build_rasterizer(cfg, dm)\n",
    "\n",
    "\n",
    "scene_id_to_type_mapping_file = \"../../dataset_metadata/train_split_1350.csv\"\n",
    "scene_id_to_type_val_path = \"../../dataset_metadata/val_split_1350.csv\"\n",
    "\n",
    "# Group Structures\n",
    "scene_type_to_id_dict = get_scene_types_as_dict(scene_id_to_type_mapping_file)\n",
    "scene_id_to_type_list = get_scene_types(scene_id_to_type_mapping_file)\n",
    "\n",
    "train_dataset_original = EgoDataset(cfg, zarr_dataset, rasterizer)\n",
    "cumulative_sizes = train_dataset_original.cumulative_sizes\n"
   ]
  },
  {
   "cell_type": "code",
   "execution_count": null,
   "id": "dd5f1f84",
   "metadata": {},
   "outputs": [],
   "source": [
    "# Loop over scenes\n",
    "total_frames = cumulative_sizes[-1]\n",
    "cumulative_sizes = np.insert(cumulative_sizes, 0, 0)\n",
    "filter_frame_ids = [False] * total_frames\n",
    "for index in range(len(cumulative_sizes)-1):\n",
    "    # Determine boundaries\n",
    "    start_frame = cumulative_sizes[index]\n",
    "    end_frame = cumulative_sizes[index+1]\n",
    "    len_scene = end_frame - start_frame\n",
    "    if scene_id_to_type_list[index][0] == 'upper':\n",
    "        filter_frame_ids[start_frame : end_frame] = [True] * len_scene    \n",
    "filtered_frames = [i for i, x in enumerate(filter_frame_ids) if x]"
   ]
  },
  {
   "cell_type": "code",
   "execution_count": null,
   "id": "68b966f8",
   "metadata": {},
   "outputs": [],
   "source": [
    "frames = zarr_dataset.frames[filtered_frames]\n",
    "coords = np.zeros((len(frames), 2))\n",
    "for idx_coord, idx_data in enumerate(tqdm(range(10000), desc=\"getting centroid to plot trajectory\")):\n",
    "    frame = frames[idx_data]\n",
    "    coords[idx_coord] = frame[\"ego_translation\"][:2]\n",
    "\n",
    "\n",
    "plt.scatter(coords[:, 0], coords[:, 1], marker='.')\n",
    "axes = plt.gca()\n",
    "axes.set_xlim([-2500, 1600])\n",
    "axes.set_ylim([-2500, 1600])"
   ]
  },
  {
   "cell_type": "code",
   "execution_count": null,
   "id": "15b08be7",
   "metadata": {},
   "outputs": [],
   "source": []
  }
 ],
 "metadata": {
  "kernelspec": {
   "display_name": "Python 3 (ipykernel)",
   "language": "python",
   "name": "python3"
  },
  "language_info": {
   "codemirror_mode": {
    "name": "ipython",
    "version": 3
   },
   "file_extension": ".py",
   "mimetype": "text/x-python",
   "name": "python",
   "nbconvert_exporter": "python",
   "pygments_lexer": "ipython3",
   "version": "3.8.0"
  }
 },
 "nbformat": 4,
 "nbformat_minor": 5
}
